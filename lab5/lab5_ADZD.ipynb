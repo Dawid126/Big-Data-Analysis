{
  "cells": [
    {
      "cell_type": "code",
      "execution_count": null,
      "metadata": {
        "id": "EZiRKyE10W95",
        "outputId": "e4955c66-677d-4d16-8519-1bda2baee2ab"
      },
      "outputs": [
        {
          "data": {
            "text/plain": [
              "Intitializing Scala interpreter ..."
            ]
          },
          "metadata": {},
          "output_type": "display_data"
        },
        {
          "data": {
            "text/plain": [
              "Spark Web UI available at http://172.21.147.132:4040\n",
              "SparkContext available as 'sc' (version = 3.3.1, master = local[*], app id = local-1670087572185)\n",
              "SparkSession available as 'spark'\n"
            ]
          },
          "metadata": {},
          "output_type": "display_data"
        },
        {
          "data": {
            "text/plain": [
              "x: Int = 0\n"
            ]
          },
          "execution_count": 1,
          "metadata": {},
          "output_type": "execute_result"
        }
      ],
      "source": [
        "val x:Int = 0"
      ]
    },
    {
      "cell_type": "markdown",
      "metadata": {
        "id": "ryTriiqz0W9-"
      },
      "source": [
        "# Zad.1 Wczytać graf Facebooka, krawędzie z pliku musae_facebook_edges.csv, atrybuty page_name oraz page_type z pliku musae_facebook_target.csv.  Policzyć liczbę krawędzi i wierzchołków."
      ]
    },
    {
      "cell_type": "code",
      "execution_count": null,
      "metadata": {
        "id": "bGPy5_ZP0W-A",
        "outputId": "027bc959-c1da-4afb-c5a8-8f277cf7a755"
      },
      "outputs": [
        {
          "data": {
            "text/plain": [
              "import org.apache.spark._\n",
              "import org.apache.spark.graphx._\n",
              "import org.apache.spark.sql._\n",
              "import org.apache.spark.rdd.RDD\n"
            ]
          },
          "execution_count": 4,
          "metadata": {},
          "output_type": "execute_result"
        }
      ],
      "source": [
        "import org.apache.spark._\n",
        "import org.apache.spark.graphx._\n",
        "import org.apache.spark.sql._\n",
        "import org.apache.spark.rdd.RDD"
      ]
    },
    {
      "cell_type": "code",
      "execution_count": null,
      "metadata": {
        "id": "daLZ_X2_0W-A",
        "outputId": "5acc9aa6-b0bd-4344-fd36-126492579695"
      },
      "outputs": [
        {
          "name": "stdout",
          "output_type": "stream",
          "text": [
            "22/12/03 18:37:37 WARN SparkContext: Using an existing SparkContext; some configuration may not take effect.\n"
          ]
        },
        {
          "data": {
            "text/plain": [
              "sc: org.apache.spark.SparkContext = org.apache.spark.SparkContext@65551f6c\n",
              "vertices: org.apache.spark.rdd.RDD[(Long, (String, String))] = MapPartitionsRDD[48] at map at <console>:52\n",
              "edges: org.apache.spark.rdd.RDD[org.apache.spark.graphx.Edge[String]] = MapPartitionsRDD[51] at map at <console>:60\n",
              "default_node: (String, String) = (\"\",\"\")\n",
              "graph: org.apache.spark.graphx.Graph[(String, String),String] = org.apache.spark.graphx.impl.GraphImpl@37616c2\n"
            ]
          },
          "execution_count": 10,
          "metadata": {},
          "output_type": "execute_result"
        }
      ],
      "source": [
        "val sc = (\n",
        "    SparkContext\n",
        "    .getOrCreate(\n",
        "        new SparkConf()\n",
        "        .setAppName(\"GraphX lab\")\n",
        "        .setMaster(\"local[*]\")\n",
        "    )\n",
        ")\n",
        "\n",
        "val vertices: RDD[(Long, (String, String))] = (\n",
        "    sc.textFile(\"facebook_large/musae_facebook_target.csv\")\n",
        "    .map(line => {\n",
        "        val x = line.split(\",\");\n",
        "        (x(0).toLong, (x(2), x(3)))\n",
        "    })\n",
        ")\n",
        "\n",
        "val edges: RDD[Edge[String]] = (\n",
        "    sc.textFile(\"facebook_large/musae_facebook_edges.csv\")\n",
        "    .map(line => {\n",
        "        val x = line.split(\",\");\n",
        "        Edge(x(0).toLong, x(1).toLong, \"\")\n",
        "    })\n",
        ")\n",
        "\n",
        "val default_node = (\"\", \"\")\n",
        "\n",
        "val graph: Graph[(String, String), String] = Graph(vertices, edges, default_node)"
      ]
    },
    {
      "cell_type": "code",
      "execution_count": null,
      "metadata": {
        "id": "xZeDNb_40W-B",
        "outputId": "5b15e927-5e1d-491a-ae20-a9a027d99882"
      },
      "outputs": [
        {
          "data": {
            "text/plain": [
              "res3: Long = 22470\n"
            ]
          },
          "execution_count": 11,
          "metadata": {},
          "output_type": "execute_result"
        }
      ],
      "source": [
        "graph.vertices.count()"
      ]
    },
    {
      "cell_type": "code",
      "execution_count": null,
      "metadata": {
        "id": "xna8bVLZ0W-B",
        "outputId": "2e9f0a52-7225-424c-b17a-c3337bd8cd87"
      },
      "outputs": [
        {
          "data": {
            "text/plain": [
              "res4: Long = 171002\n"
            ]
          },
          "execution_count": 12,
          "metadata": {},
          "output_type": "execute_result"
        }
      ],
      "source": [
        "graph.edges.count()"
      ]
    },
    {
      "cell_type": "markdown",
      "metadata": {
        "id": "nXdRoS4L0W-C"
      },
      "source": [
        "# Zad.2 Sprawdzić czy graf jest spójny. Czy dwa podgrafy utworzone dla typów strony governmental organizations oraz television shows też są spójne?"
      ]
    },
    {
      "cell_type": "code",
      "execution_count": null,
      "metadata": {
        "id": "zWVbexRc0W-C",
        "outputId": "d002420e-b01d-402f-cca2-efca15e74405"
      },
      "outputs": [
        {
          "data": {
            "text/plain": [
              "isConnected: (graph: org.apache.spark.graphx.Graph[(String, String),String])Boolean\n"
            ]
          },
          "execution_count": 13,
          "metadata": {},
          "output_type": "execute_result"
        }
      ],
      "source": [
        "def isConnected(graph: Graph[(String, String), String]): Boolean =\n",
        "    graph.vertices.count() == graph.connectedComponents().vertices.count()"
      ]
    },
    {
      "cell_type": "code",
      "execution_count": null,
      "metadata": {
        "id": "nHrMu6MH0W-D",
        "outputId": "843b450b-a281-44ae-bfe3-3f8f625af5a7"
      },
      "outputs": [
        {
          "name": "stdout",
          "output_type": "stream",
          "text": [
            "true\n"
          ]
        }
      ],
      "source": [
        "println(isConnected(graph))"
      ]
    },
    {
      "cell_type": "code",
      "execution_count": null,
      "metadata": {
        "id": "7NKBj1Xw0W-D",
        "outputId": "0377cfa4-cd94-4706-e0c9-2d96be5df795"
      },
      "outputs": [
        {
          "name": "stdout",
          "output_type": "stream",
          "text": [
            "true\n"
          ]
        },
        {
          "data": {
            "text/plain": [
              "government_graph: org.apache.spark.graphx.Graph[(String, String),String] = org.apache.spark.graphx.impl.GraphImpl@3e87757a\n"
            ]
          },
          "execution_count": 17,
          "metadata": {},
          "output_type": "execute_result"
        }
      ],
      "source": [
        "val government_graph = graph.subgraph(\n",
        "    vpred = { case (id, (page_name, page_type)) => page_type == \"government\" }\n",
        ")\n",
        "\n",
        "println(isConnected(government_graph))"
      ]
    },
    {
      "cell_type": "code",
      "execution_count": null,
      "metadata": {
        "id": "ghXb-Me70W-E",
        "outputId": "e7e82c58-f423-44fb-9e9c-e46f15c253e4"
      },
      "outputs": [
        {
          "name": "stdout",
          "output_type": "stream",
          "text": [
            "true\n"
          ]
        },
        {
          "data": {
            "text/plain": [
              "tvshow_graph: org.apache.spark.graphx.Graph[(String, String),String] = org.apache.spark.graphx.impl.GraphImpl@5cb2eb27\n"
            ]
          },
          "execution_count": 18,
          "metadata": {},
          "output_type": "execute_result"
        }
      ],
      "source": [
        "val tvshow_graph = graph.subgraph(\n",
        "    vpred = { case (id, (page_name, page_type)) => page_type == \"tvshow\" }\n",
        ")\n",
        "\n",
        "println(isConnected(tvshow_graph))"
      ]
    },
    {
      "cell_type": "markdown",
      "metadata": {
        "id": "GNBtDjm80W-E"
      },
      "source": [
        "# Zad.3 Spośród 1000 stron o najwyższym PageRank znaleźć 50 takich (wypisać page_name i page_type), które mają najmniej połączeń oraz 50 o największej liczbie połączeń. Który typ strony był dominujący w każdej z tych kategorii? Narysować wykres zależności PageRank od liczby krawędzi dla wierzchołków (scatter plot)"
      ]
    },
    {
      "cell_type": "code",
      "execution_count": null,
      "metadata": {
        "id": "NbfijdxC0W-F",
        "outputId": "80f29b3a-8ad5-4378-9ea9-f2ea808a6d1b"
      },
      "outputs": [
        {
          "data": {
            "text/plain": [
              "ranks: org.apache.spark.graphx.VertexRDD[Double] = VertexRDDImpl[2121] at RDD at VertexRDD.scala:57\n",
              "rankedVertexDegrees: org.apache.spark.rdd.RDD[(org.apache.spark.graphx.VertexId, (Double, Int))] = MapPartitionsRDD[2134] at join at <console>:39\n"
            ]
          },
          "execution_count": 20,
          "metadata": {},
          "output_type": "execute_result"
        }
      ],
      "source": [
        "val ranks = graph.pageRank(0.0001).vertices\n",
        "\n",
        "val rankedVertexDegrees = ranks.join(graph.degrees)"
      ]
    },
    {
      "cell_type": "code",
      "execution_count": null,
      "metadata": {
        "id": "QL4XuVeS0W-F",
        "outputId": "beea91ba-1928-43ec-8091-ce372dcba618"
      },
      "outputs": [
        {
          "data": {
            "text/plain": [
              "res10: Array[(org.apache.spark.graphx.VertexId, (Double, Int))] = Array((21621,(5.383946245119022,17)), (6718,(0.3715027271414795,2)), (7725,(0.40308045894850536,1)))\n"
            ]
          },
          "execution_count": 21,
          "metadata": {},
          "output_type": "execute_result"
        }
      ],
      "source": [
        "rankedVertexDegrees.takeSample(false, 3)"
      ]
    },
    {
      "cell_type": "code",
      "execution_count": null,
      "metadata": {
        "id": "5RgwOmia0W-F",
        "outputId": "a9d97e3b-004f-497b-a09d-695689c48695"
      },
      "outputs": [
        {
          "data": {
            "text/plain": [
              "graphWithRankedDegrees: org.apache.spark.graphx.Graph[(String, String, Double, Int),String] = org.apache.spark.graphx.impl.GraphImpl@12d39df9\n"
            ]
          },
          "execution_count": 22,
          "metadata": {},
          "output_type": "execute_result"
        }
      ],
      "source": [
        "val graphWithRankedDegrees = graph.outerJoinVertices(rankedVertexDegrees) {\n",
        "    (_, data, vertexWithRank) => (\n",
        "        data._1,  // page_name\n",
        "        data._2,  // page_type\n",
        "        vertexWithRank.getOrElse((0.0, 0))._1,  // PageRank value\n",
        "        vertexWithRank.getOrElse((0.0, 0))._2   // degree\n",
        "    )\n",
        "}"
      ]
    },
    {
      "cell_type": "code",
      "execution_count": null,
      "metadata": {
        "id": "s065vll_0W-F",
        "outputId": "f0ab07e4-2038-4f5e-d1f8-373628c57b03"
      },
      "outputs": [
        {
          "data": {
            "text/plain": [
              "res11: Array[(org.apache.spark.graphx.VertexId, (String, String, Double, Int))] = Array((17328,(\"Dr. Mathias Middelberg,\" MdB\"\",3.3033327312721674,61)), (22430,(Imovelweb,company,1.710729203883163,5)), (11501,(Vodafone Australia,company,0.5734436878164402,16)))\n"
            ]
          },
          "execution_count": 23,
          "metadata": {},
          "output_type": "execute_result"
        }
      ],
      "source": [
        "graphWithRankedDegrees.vertices.takeSample(false, 3)"
      ]
    },
    {
      "cell_type": "code",
      "execution_count": null,
      "metadata": {
        "id": "ynqeg2nw0W-G",
        "outputId": "81d54840-154b-4aee-993b-9798cd1e6fd2"
      },
      "outputs": [
        {
          "data": {
            "text/plain": [
              "top_50: Array[(String, String)] = Array((\" Chapters and Coles\"\",\"Indigo), (\" Georgetown)\"\",\"India in Guyana (High Commission of India), (\" Wissenschaft & Digitale Gesellschaft\"\",\"Thüringer Ministerium für Wirtschaft), (company,Abarth), (company,Bosch Professional Power Tools and Accessories), (company,CVS Pharmacy), (company,Cathay Pacific Airways), (company,Chupa Chups), (company,Dignity Health), (company,GIORDANO), (company,Imovelweb), (company,Keurig), (company,OLTURSA), (company,Pizzaro), (company,Tottus Perú), (company,Triumph), (company,Yenda), (company,dubdub Stories), (government,Ambassade du Canada en Israël), (government,Australia in Thailand), (government,Camden County Government), (government,City of Los Altos Police Department), (government,EnergySaver.gov), (government,Flo...\n"
            ]
          },
          "execution_count": 24,
          "metadata": {},
          "output_type": "execute_result"
        }
      ],
      "source": [
        "val top_50 = (\n",
        "    graphWithRankedDegrees.vertices\n",
        "    .top(50)\n",
        "    .map(v => (v._2._2, v._2._1))  // degree, page_type, page_name\n",
        "    .sorted\n",
        ")\n",
        "\n",
        "\n",
        "val last_50 = (\n",
        "    graphWithRankedDegrees.vertices\n",
        "    .takeOrdered(50)\n",
        "    .map(v => (v._2._2, v._2._1))  // degree, page_type, page_name\n",
        "    .sorted\n",
        ")"
      ]
    },
    {
      "cell_type": "code",
      "execution_count": null,
      "metadata": {
        "id": "BFT_fM8G0W-G",
        "outputId": "4db1abed-b4aa-4599-dbfd-cf6f71dda4af"
      },
      "outputs": [
        {
          "name": "stdout",
          "output_type": "stream",
          "text": [
            "( Chapters and Coles\",\"Indigo)\n",
            "( Georgetown)\",\"India in Guyana (High Commission of India)\n",
            "( Wissenschaft & Digitale Gesellschaft\",\"Thüringer Ministerium für Wirtschaft)\n",
            "(company,Abarth)\n",
            "(company,Bosch Professional Power Tools and Accessories)\n",
            "(company,CVS Pharmacy)\n",
            "(company,Cathay Pacific Airways)\n",
            "(company,Chupa Chups)\n",
            "(company,Dignity Health)\n",
            "(company,GIORDANO)\n",
            "(company,Imovelweb)\n",
            "(company,Keurig)\n",
            "(company,OLTURSA)\n",
            "(company,Pizzaro)\n",
            "(company,Tottus Perú)\n",
            "(company,Triumph)\n",
            "(company,Yenda)\n",
            "(company,dubdub Stories)\n",
            "(government,Ambassade du Canada en Israël)\n",
            "(government,Australia in Thailand)\n",
            "(government,Camden County Government)\n",
            "(government,City of Los Altos Police Department)\n",
            "(government,EnergySaver.gov)\n",
            "(government,Florida Division of Historical Resources)\n",
            "(government,Memphis VA Medical Center)\n",
            "(government,Michigan Department of Agriculture & Rural Development - MDARD)\n",
            "(government,Ministerio del Interior - Paraguay)\n",
            "(government,Monroe County Sheriff's Office)\n",
            "(government,NYPD 33rd Precinct)\n",
            "(government,The City of South San Francisco – Government)\n",
            "(government,U.S. Army 261st Multifunctional Medical Battalion)\n",
            "(government,US National Weather Service Amarillo Texas)\n",
            "(politician,Antonio Tajani)\n",
            "(politician,Bill Johnston MLA)\n",
            "(politician,Cr Amanda Cooper)\n",
            "(politician,Daniel Köbler)\n",
            "(politician,Deborah O'Neill)\n",
            "(politician,Federica Mogherini)\n",
            "(politician,Greg Hands)\n",
            "(politician,Jerome Mika)\n",
            "(politician,Kurt Wiegel MdL)\n",
            "(politician,Maria Elena Boschi)\n",
            "(politician,Marietje In Europa)\n",
            "(politician,Miguel Romo)\n",
            "(politician,Nicholas Sarwark)\n",
            "(politician,Professor Yemi Osinbajo)\n",
            "(politician,Werner Langen)\n",
            "(tvshow,Premier Boxing Champions)\n",
            "(tvshow,SPORT1 Doppelpass)\n",
            "(tvshow,Uwaga! po Uwadze)\n"
          ]
        }
      ],
      "source": [
        "top_50.foreach(println)"
      ]
    },
    {
      "cell_type": "code",
      "execution_count": null,
      "metadata": {
        "id": "wYKZW4V20W-G",
        "outputId": "15979e73-900b-4f8e-98c6-20c5bb0229f0"
      },
      "outputs": [
        {
          "name": "stdout",
          "output_type": "stream",
          "text": [
            "(company,Die Techniker (TK))\n",
            "(company,Digicel)\n",
            "(company,ESET)\n",
            "(company,Ford Danmark)\n",
            "(company,Honey Bunches of Oats)\n",
            "(company,Hotel Indigo)\n",
            "(company,Hydro Coco)\n",
            "(company,Marriott Rewards)\n",
            "(company,Omoda)\n",
            "(company,Schweppes Australia)\n",
            "(company,Shapeways)\n",
            "(company,Sunrun)\n",
            "(company,Tahiti Tourisme)\n",
            "(company,TalkTalk)\n",
            "(company,TeleCentro)\n",
            "(company,Volaris)\n",
            "(government,1st Armored Division Sustainment Brigade)\n",
            "(government,Army ROTC Fighting Saints Battalion)\n",
            "(government,Brisbane Water LAC - NSW Police Force)\n",
            "(government,Consulate General of Switzerland in Montreal)\n",
            "(government,Embassy of the Netherlands in Uganda)\n",
            "(government,Ministerio de Comunicaciones de la República Argentina)\n",
            "(government,Municipio de Lomas de Zamora)\n",
            "(government,NASA Student Launch)\n",
            "(government,NASA's Marshall Space Flight Center)\n",
            "(government,NCBI - National Center for Biotechnology Information)\n",
            "(government,National Institute of General Medical Sciences)\n",
            "(government,Nuevo León Extraordinario)\n",
            "(government,Policía Nacional de los Colombianos)\n",
            "(government,Service de police de la Ville de Montréal - SPVM)\n",
            "(government,Socialstyrelsen)\n",
            "(government,St. Cloud VA Health Care System)\n",
            "(government,T.C. Mezar-ı Şerif Başkonsolosluğu)\n",
            "(government,T.C. Niamey Büyükelçiliği/ Ambassade de Turquie à Niamey)\n",
            "(government,Tennessee Secretary of State)\n",
            "(government,U.S. Consulate General Mumbai)\n",
            "(politician,Deputado Ademir Camilo)\n",
            "(politician,Digvijaya Singh)\n",
            "(politician,Eduardo Barbosa)\n",
            "(politician,Eliziane Gama)\n",
            "(politician,Françoise Guégot)\n",
            "(politician,Ivan ŠTEFANEC)\n",
            "(politician,Jean-Claude Poissant)\n",
            "(politician,Lance Gooden)\n",
            "(politician,Mark Bailey MP - Labor for Miller)\n",
            "(politician,Victor Dominello MP)\n",
            "(politician,張宏陸)\n",
            "(tvshow,APB FOX)\n",
            "(tvshow,Poppy Cat)\n",
            "(tvshow,The Voice of China 中国好声音)\n"
          ]
        }
      ],
      "source": [
        "last_50.foreach(println)"
      ]
    },
    {
      "cell_type": "code",
      "execution_count": null,
      "metadata": {
        "id": "R2rW486U0W-G",
        "outputId": "58272562-07b4-4614-a20e-e8febeadc21a"
      },
      "outputs": [
        {
          "data": {
            "text/plain": [
              "rankedVertexDegreesValues: org.apache.spark.rdd.RDD[(Double, Int)] = MapPartitionsRDD[2144] at map at <console>:39\n",
              "res14: Array[(Double, Int)] = Array((0.3715027271414795,2), (0.3715027271414795,2), (5.072800585844387,67))\n"
            ]
          },
          "execution_count": 27,
          "metadata": {},
          "output_type": "execute_result"
        }
      ],
      "source": [
        "val rankedVertexDegreesValues = (\n",
        "    rankedVertexDegrees\n",
        "    .map(v => (v._2._1, v._2._2))\n",
        ")\n",
        "\n",
        "rankedVertexDegreesValues.takeSample(false, 3)"
      ]
    },
    {
      "cell_type": "code",
      "execution_count": null,
      "metadata": {
        "id": "VVfK02qz0W-H",
        "outputId": "5c38297e-bdd8-4827-d407-09e5ec3d9997"
      },
      "outputs": [
        {
          "data": {
            "text/plain": [
              "import java.io._\n",
              "file: String = degree_pagerank.txt\n",
              "writer: java.io.BufferedWriter = java.io.BufferedWriter@3756dde5\n"
            ]
          },
          "execution_count": 28,
          "metadata": {},
          "output_type": "execute_result"
        }
      ],
      "source": [
        "import java.io._\n",
        "\n",
        "val file = \"degree_pagerank.txt\"\n",
        "val writer = new BufferedWriter(new OutputStreamWriter(new FileOutputStream(file)))\n",
        "\n",
        "writer.write(rankedVertexDegreesValues.collect().mkString(\",\"))\n",
        "writer.close()"
      ]
    },
    {
      "cell_type": "code",
      "execution_count": null,
      "metadata": {
        "id": "SStn73t50W-H",
        "outputId": "eb4d567b-e1b0-459d-875e-d3788c7d3553"
      },
      "outputs": [
        {
          "data": {
            "image/png": "[encoded data removed]",
            "text/plain": [
              "<IPython.core.display.Image object>"
            ]
          },
          "execution_count": 30,
          "metadata": {},
          "output_type": "execute_result"
        }
      ],
      "source": [
        "%%python\n",
        "from tempfile import NamedTemporaryFile\n",
        "\n",
        "import matplotlib.pyplot as plt\n",
        "from IPython.display import Image\n",
        "\n",
        "with open(\"degree_pagerank.txt\") as file:\n",
        "    text = file.read()\n",
        "\n",
        "tuples = [tup[:-1] for tup in text.split(\",(\")]\n",
        "tuples[0] = tuples[0][1:]\n",
        "tuples = [tup.split(\",\") for tup in tuples]\n",
        "tuples = [(int(tup[1]), float(tup[0])) for tup in tuples]\n",
        "tuples.sort()\n",
        "\n",
        "degrees = [degree for pagerank_value, degree in tuples]\n",
        "pagerank_values = [pagerank_value for pagerank_value, degree in tuples]\n",
        "\n",
        "plt.clf()\n",
        "plt.scatter(degrees, pagerank_values, c=\"green\", s=5)\n",
        "plt.title(\"PageRank value per node degree\")\n",
        "\n",
        "with NamedTemporaryFile(suffix=\".png\", delete=False) as file:\n",
        "    plt.savefig(file.name)\n",
        "    retval = Image(filename=file.name)"
      ]
    },
    {
      "cell_type": "markdown",
      "metadata": {
        "id": "Lqv4cVM40W-H"
      },
      "source": [
        "# Zad.4 Korzystając z Pregel API zaimplementować następujący algorytm. W pierwszym kroku wybrana strona publikuje post fake news. W kolejnym kroku ten post publikowany jest przez 1/4 losowo wybranych kontaktów tej strony. W dalszych krokach, dla każdej strony, która opublikowała już ten post, losowo wybrane 1/4 jej kontaktów publikuje go u siebie. Pokazać jak zmienia się liczba stron które opublikowały post w zależności od liczby kroków."
      ]
    },
    {
      "cell_type": "code",
      "execution_count": null,
      "metadata": {
        "id": "itQAuN8Z0W-H",
        "outputId": "ee40fa55-303e-448d-83d5-8cb1c4a882f5"
      },
      "outputs": [
        {
          "data": {
            "text/plain": [
              "import scala.language.implicitConversions\n",
              "bool2int: (b: Boolean)Int\n",
              "getPublishersNumber: (graph: org.apache.spark.graphx.Graph[Boolean,String], maxIter: Int)Int\n"
            ]
          },
          "execution_count": 31,
          "metadata": {},
          "output_type": "execute_result"
        }
      ],
      "source": [
        "import scala.language.implicitConversions\n",
        "\n",
        "implicit def bool2int(b:Boolean) = if (b) 1 else 0\n",
        "\n",
        "\n",
        "def getPublishersNumber(graph: graphx.Graph[Boolean,String], maxIter: Int): Int = {\n",
        "    val publishGraph = Pregel(\n",
        "        graph,\n",
        "        false,\n",
        "        maxIter,\n",
        "        activeDirection = EdgeDirection.Out\n",
        "    )(\n",
        "        (id, value, msg) => value || (msg && (scala.util.Random.nextFloat() < 0.25)),\n",
        "        triplet => Iterator((triplet.dstId, triplet.srcAttr)),\n",
        "        (a, b) => a || b\n",
        "    )\n",
        "    \n",
        "    publishGraph.vertices.collect().map(v => v._2 * 1).sum\n",
        "}"
      ]
    },
    {
      "cell_type": "code",
      "execution_count": null,
      "metadata": {
        "id": "F-YRM1Df0W-I",
        "outputId": "d21d02a7-8342-4792-e822-26221abaef1e"
      },
      "outputs": [
        {
          "name": "stdout",
          "output_type": "stream",
          "text": [
            "22/12/03 19:06:37 WARN BlockManager: Block rdd_11110_1 already exists on this machine; not re-adding it\n",
            "22/12/03 19:06:37 WARN BlockManager: Block rdd_11110_0 already exists on this machine; not re-adding it\n"
          ]
        },
        {
          "data": {
            "text/plain": [
              "publishId: Int = 1\n",
              "initialGraph: org.apache.spark.graphx.Graph[Boolean,String] = org.apache.spark.graphx.impl.GraphImpl@1fef0f07\n",
              "publisherNumbers: scala.collection.immutable.IndexedSeq[Int] = Vector(9, 68, 250, 354, 660, 1458, 2078, 2340, 3689, 3356, 3450, 3632, 3961, 4082, 5787, 6145, 3397, 5701, 4904, 6063, 6018, 7867, 5827, 6439, 6572, 6783, 6097, 7860, 3533, 6870, 8351, 8143)\n"
            ]
          },
          "execution_count": 33,
          "metadata": {},
          "output_type": "execute_result"
        }
      ],
      "source": [
        "val publishId = 1\n",
        "val initialGraph = ((publishId: VertexId) => graph.mapVertices((id, _) => id == publishId))(publishId)\n",
        "\n",
        "val publisherNumbers = for (maxIter <- 1 to 32) yield getPublishersNumber(initialGraph, maxIter)"
      ]
    },
    {
      "cell_type": "code",
      "execution_count": null,
      "metadata": {
        "id": "VU6iilmA0W-I",
        "outputId": "d6d2a2c7-8bc0-4a2d-d5f5-4fb444f02ba2"
      },
      "outputs": [
        {
          "data": {
            "text/plain": [
              "import java.io._\n",
              "file: String = publisher_numbers.txt\n",
              "writer: java.io.BufferedWriter = java.io.BufferedWriter@43ed676d\n"
            ]
          },
          "execution_count": 34,
          "metadata": {},
          "output_type": "execute_result"
        }
      ],
      "source": [
        "import java.io._\n",
        "\n",
        "val file = \"publisher_numbers.txt\"\n",
        "val writer = new BufferedWriter(new OutputStreamWriter(new FileOutputStream(file)))\n",
        "\n",
        "writer.write(publisherNumbers.mkString(\",\"))\n",
        "writer.close()"
      ]
    },
    {
      "cell_type": "code",
      "execution_count": null,
      "metadata": {
        "id": "rK78ApzC0W-I",
        "outputId": "66827a38-ab80-41b6-f1c5-03406901ce1e"
      },
      "outputs": [
        {
          "data": {
            "image/png": "[encoded data removed]",
            "text/plain": [
              "<IPython.core.display.Image object>"
            ]
          },
          "execution_count": 35,
          "metadata": {},
          "output_type": "execute_result"
        }
      ],
      "source": [
        "%%python\n",
        "from tempfile import NamedTemporaryFile\n",
        "\n",
        "import matplotlib.pyplot as plt\n",
        "from IPython.display import Image\n",
        "\n",
        "with open(\"publisher_numbers.txt\") as file:\n",
        "    text = file.read()\n",
        "\n",
        "xs = list(range(1, 33))\n",
        "ys = [int(val) for val in text.split(\",\")]\n",
        "\n",
        "plt.clf()\n",
        "plt.scatter(xs, ys, c=\"green\", s=5)\n",
        "plt.title(\"Numer of publishers per number of steps\")\n",
        "\n",
        "with NamedTemporaryFile(suffix=\".png\", delete=False) as file:\n",
        "    plt.savefig(file.name)\n",
        "    retval = Image(filename=file.name)"
      ]
    },
    {
      "cell_type": "markdown",
      "metadata": {
        "id": "w5nDZaQe0W-I"
      },
      "source": [
        "# Zad.5 Narysować wykres rozkładu stopnia wierzchołków w grafie w skali logarytmicznej. Można skorzystać z funkcji obliczającej histogram dla RDD. Czy sieć jest bezskalowa (scale-free)? https://barabasi.com/f/623.pdf"
      ]
    },
    {
      "cell_type": "code",
      "execution_count": null,
      "metadata": {
        "id": "RfirrXmY0W-I",
        "outputId": "9b7ff0c1-ea98-4518-9b15-2a7772cdf14d"
      },
      "outputs": [
        {
          "data": {
            "text/plain": [
              "degrees: org.apache.spark.rdd.RDD[Int] = MapPartitionsRDD[20074] at map at <console>:45\n",
              "res17: Array[Int] = Array(8, 4, 2, 3, 1, 19, 5, 3, 29, 93)\n"
            ]
          },
          "execution_count": 37,
          "metadata": {},
          "output_type": "execute_result"
        }
      ],
      "source": [
        "val degrees = graph.degrees.map(v => v._2)\n",
        "\n",
        "degrees.takeSample(false, 10)"
      ]
    },
    {
      "cell_type": "code",
      "execution_count": null,
      "metadata": {
        "id": "clhGCeBB0W-J",
        "outputId": "f779b145-7f2b-4319-9b0c-b74d0bb37301"
      },
      "outputs": [
        {
          "data": {
            "text/plain": [
              "bins: Array[Double] = Array(1.0, 1.998589562764457, 2.997179125528914, 3.9957686882933707, 4.994358251057828, 5.992947813822285, 6.9915373765867415, 7.990126939351199, 8.988716502115656, 9.987306064880112, 10.98589562764457, 11.984485190409027, 12.983074753173483, 13.981664315937941, 14.980253878702397, 15.978843441466855, 16.97743300423131, 17.97602256699577, 18.974612129760224, 19.973201692524682, 20.97179125528914, 21.970380818053595, 22.968970380818053, 23.96755994358251, 24.966149506346966, 25.964739069111424, 26.963328631875882, 27.96191819464034, 28.960507757404795, 29.959097320169253, 30.95768688293371, 31.956276445698165, 32.95486600846262, 33.95345557122708, 34.95204513399154, 35.950634696756, 36.94922425952045, 37.94781382228491, 38.946403385049365, 39.94499294781382, 40.9435...\n"
            ]
          },
          "execution_count": 38,
          "metadata": {},
          "output_type": "execute_result"
        }
      ],
      "source": [
        "val (bins, values) = degrees.histogram(degrees.max)"
      ]
    },
    {
      "cell_type": "code",
      "execution_count": null,
      "metadata": {
        "id": "z4oZvIuT0W-J",
        "outputId": "6a48176e-63f6-4c21-93e8-641ef119b371"
      },
      "outputs": [
        {
          "data": {
            "text/plain": [
              "import java.io._\n",
              "file: String = histogram_values.txt\n",
              "writer: java.io.BufferedWriter = java.io.BufferedWriter@68b495ff\n"
            ]
          },
          "execution_count": 39,
          "metadata": {},
          "output_type": "execute_result"
        }
      ],
      "source": [
        "import java.io._\n",
        "\n",
        "val file = \"histogram_values.txt\"\n",
        "val writer = new BufferedWriter(new OutputStreamWriter(new FileOutputStream(file)))\n",
        "\n",
        "writer.write(values.mkString(\",\"))\n",
        "writer.close()"
      ]
    },
    {
      "cell_type": "code",
      "execution_count": null,
      "metadata": {
        "id": "oJ2rl7iB0W-J",
        "outputId": "864747ce-c1df-4c6d-fbee-2827220e08ad"
      },
      "outputs": [
        {
          "data": {
            "image/png": "[encoded data removed]",
            "text/plain": [
              "<IPython.core.display.Image object>"
            ]
          },
          "execution_count": 40,
          "metadata": {},
          "output_type": "execute_result"
        }
      ],
      "source": [
        "%%python\n",
        "from tempfile import NamedTemporaryFile\n",
        "\n",
        "import matplotlib.pyplot as plt\n",
        "import numpy as np\n",
        "from IPython.display import Image\n",
        "\n",
        "with open(\"histogram_values.txt\") as file:\n",
        "    text = file.read()\n",
        "\n",
        "ys = np.array([int(val) for val in text.split(\",\")])\n",
        "xs = list(range(1, len(ys) + 1))\n",
        "\n",
        "plt.clf()\n",
        "plt.scatter(np.log(xs), np.log(ys), color=\"green\", s=5)\n",
        "plt.title(\"Degree histogram\")\n",
        "\n",
        "with NamedTemporaryFile(suffix=\".png\", delete=False) as file:\n",
        "    plt.savefig(file.name)\n",
        "    retval = Image(filename=file.name)"
      ]
    },
    {
      "cell_type": "markdown",
      "metadata": {
        "id": "VsFnfm2w0W-J"
      },
      "source": [
        "# https://mathinsight.org/scale_free_network"
      ]
    }
  ],
  "metadata": {
    "kernelspec": {
      "display_name": "spylon-kernel",
      "language": "scala",
      "name": "spylon-kernel"
    },
    "language_info": {
      "codemirror_mode": "text/x-scala",
      "file_extension": ".scala",
      "help_links": [
        {
          "text": "MetaKernel Magics",
          "url": "https://metakernel.readthedocs.io/en/latest/source/README.html"
        }
      ],
      "mimetype": "text/x-scala",
      "name": "scala",
      "pygments_lexer": "scala",
      "version": "0.4.1"
    },
    "colab": {
      "provenance": []
    }
  },
  "nbformat": 4,
  "nbformat_minor": 0
}